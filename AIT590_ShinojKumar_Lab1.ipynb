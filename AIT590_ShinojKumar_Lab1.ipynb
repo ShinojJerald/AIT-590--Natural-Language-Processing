{
 "cells": [
  {
   "cell_type": "code",
   "execution_count": null,
   "metadata": {},
   "outputs": [],
   "source": [
    "(0.25 point) Use the web scraping technique with BeautifulSoup as shown in class to get the text data from the specified data location on the Wikipedia webpage.\n",
    "2 (2 points) Process the text data and must include:\n",
    "2.1 Tokenize the words (0.25 point)\n",
    "2.2 Remove the stop words, punctuation, and digit numbers. (0.50 point)\n",
    "2.3 write a function to lemmatize the words (1 point)\n",
    "2.4 Calculate the word distribution using FreqDist (0.25 point)\n",
    "2.5 List and plot the top 15 words (0.25 point)\n",
    "3 (5 points) Summarize the text as shown in class:\n",
    "3.1 Calculate word frequency using two different methods:\n",
    "3.1.1 Weighted frequency (please specify the math formula) (1 point)\n",
    "(Must use FreqDist to get original word frequencies)\n",
    "3.1.2 TF-IDF with NLTK (NLTK does not have TF-IDF) (2 points)\n",
    "3.2 Score the sentences (1 point)\n",
    "3.3 Build a summary (based on ratio, sentence or word count, etc.) (1 point)\n",
    "4 (0.25 point) Summarize the same text data using Gensim with TextRank\n",
    "5 (1.50 point) Compare 3.1.1 and 3.1.2 methods with Gensim-TextRank. What’s different and why? Could your methods be improved? And How to improved? Please clearly explain.\n",
    "6 (1 point) You are strongly suggested to follow Python coding convention to write the code. The program should be robust and will be tested with several different webpages for grading."
   ]
  },
  {
   "cell_type": "code",
   "execution_count": 1,
   "metadata": {},
   "outputs": [],
   "source": [
    "import bs4 as bs  # BeautifulSoup\n",
    "import urllib.request\n",
    "import re"
   ]
  },
  {
   "cell_type": "code",
   "execution_count": 2,
   "metadata": {},
   "outputs": [],
   "source": [
    "#Using the web scraping technique with BeautifulSoup\n",
    "def _scrape_webpage(url):\n",
    "       \n",
    "    scraped_textdata = urllib.request.urlopen(url)\n",
    "    textdata = scraped_textdata.read()\n",
    "    parsed_textdata = bs.BeautifulSoup(textdata,'lxml')\n",
    "    paragraphs = parsed_textdata.find_all('p')\n",
    "    formated_text = \"\"\n",
    "\n",
    "    for para in paragraphs:\n",
    "        formated_text += para.text\n",
    "    \n",
    "    return formated_text"
   ]
  },
  {
   "cell_type": "code",
   "execution_count": 3,
   "metadata": {},
   "outputs": [],
   "source": [
    "mytext = _scrape_webpage('https://en.wikipedia.org/wiki/Natural_language_processing')"
   ]
  },
  {
   "cell_type": "code",
   "execution_count": 4,
   "metadata": {},
   "outputs": [
    {
     "name": "stdout",
     "output_type": "stream",
     "text": [
      "Number of sentences:  8602\n"
     ]
    }
   ],
   "source": [
    "print(\"Number of sentences: \", len(mytext))"
   ]
  },
  {
   "cell_type": "code",
   "execution_count": 5,
   "metadata": {
    "scrolled": true
   },
   "outputs": [
    {
     "name": "stdout",
     "output_type": "stream",
     "text": [
      "Number of sentences:  47\n",
      "['Natural language processing (NLP) is a subfield of linguistics, computer science, information engineering, and artificial intelligence concerned with the interactions between computers and human (natural) languages, in particular how to program computers to process and analyze large amounts of natural language data.', 'Challenges in natural language processing frequently involve speech recognition, natural language understanding, and natural language generation.', 'The history of natural language processing (NLP) generally started in the 1950s, although work can be found from earlier periods.', 'In 1950, Alan Turing published an article titled \"Computing Machinery and Intelligence\" which proposed what is now called the Turing test as a criterion of intelligence[clarification needed].', 'The Georgetown experiment in 1954 involved fully automatic translation of more than sixty Russian sentences into English.', 'The authors claimed that within three or five years, machine translation would be a solved problem.', '[2]  However, real progress was much slower, and after the ALPAC report in 1966, which found that ten-year-long research had failed to fulfill the expectations, funding for machine translation was dramatically reduced.', 'Little further research in machine translation was conducted until the late 1980s when the first statistical machine translation systems were developed.', 'Some notably successful natural language processing systems developed in the 1960s were SHRDLU, a natural language system working in restricted \"blocks worlds\" with restricted vocabularies, and ELIZA, a simulation of a Rogerian psychotherapist, written by Joseph Weizenbaum between 1964 and 1966.', 'Using almost no information about human thought or emotion, ELIZA sometimes provided a startlingly human-like interaction.', 'When the \"patient\" exceeded the very small knowledge base, ELIZA might provide a generic response, for example, responding to \"My head hurts\" with \"Why do you say your head hurts?\".', 'During the 1970s, many programmers began to write \"conceptual ontologies\", which structured real-world information into computer-understandable data.', 'Examples are MARGIE (Schank, 1975), SAM (Cullingford, 1978), PAM (Wilensky, 1978), TaleSpin (Meehan, 1976), QUALM (Lehnert, 1977), Politics (Carbonell, 1979), and Plot Units (Lehnert 1981).', 'During this time, many chatterbots were written including PARRY, Racter, and Jabberwacky.', 'Up to the 1980s, most natural language processing systems were based on complex sets of hand-written rules.', 'Starting in the late 1980s, however, there was a revolution in natural language processing with the introduction of machine learning algorithms for language processing.', \"This was due to both the steady increase in computational power (see Moore's law) and the gradual lessening of the dominance of Chomskyan theories of linguistics (e.g.\", 'transformational grammar), whose theoretical underpinnings discouraged the sort of corpus linguistics that underlies the machine-learning approach to language processing.', '[3] Some of the earliest-used machine learning algorithms, such as decision trees, produced systems of hard if-then rules similar to existing hand-written rules.', 'However, part-of-speech tagging introduced the use of hidden Markov models to natural language processing, and increasingly, research has focused on statistical models, which make soft, probabilistic decisions based on attaching real-valued weights to the features making up the input data.', 'The cache language models upon which many speech recognition systems now rely are examples of such statistical models.', 'Such models are generally more robust when given unfamiliar input, especially input that contains errors (as is very common for real-world data), and produce more reliable results when integrated into a larger system comprising multiple subtasks.', 'Many of the notable early successes occurred in the field of machine translation, due especially to work at IBM Research, where successively more complicated statistical models were developed.', 'These systems were able to take advantage of existing multilingual textual corpora that had been produced by the Parliament of Canada and the European Union as a result of laws calling for the translation of all governmental proceedings into all official languages of the corresponding systems of government.', 'However, most other systems depended on corpora specifically developed for the tasks implemented by these systems, which was (and often continues to be) a major limitation in the success of these systems.', 'As a result, a great deal of research has gone into methods of more effectively learning from limited amounts of data.', 'Recent research has increasingly focused on unsupervised and semi-supervised learning algorithms.', 'Such algorithms can learn from data that has not been hand-annotated with the desired answers or using a combination of annotated and non-annotated data.', 'Generally, this task is much more difficult than supervised learning, and typically produces less accurate results for a given amount of input data.', 'However, there is an enormous amount of non-annotated data available (including, among other things, the entire content of the World Wide Web), which can often make up for the inferior results if the algorithm used has a low enough time complexity to be practical.', 'In the 2010s, representation learning and deep neural network-style machine learning methods became widespread in natural language processing, due in part to a flurry of results showing that such techniques[4][5] can achieve state-of-the-art results in many natural language tasks, for example in language modeling,[6] parsing,[7][8] and many others.', 'Popular techniques include the use of word embeddings to capture semantic properties of words, and an increase in end-to-end learning of a higher-level task (e.g., question answering) instead of relying on a pipeline of separate intermediate tasks (e.g., part-of-speech tagging and dependency parsing).', 'In some areas, this shift has entailed substantial changes in how NLP systems are designed, such that deep neural network-based approaches may be viewed as a new paradigm distinct from statistical natural language processing.', 'For instance, the term neural machine translation (NMT) emphasizes the fact that deep learning-based approaches to machine translation directly learn sequence-to-sequence transformations, obviating the need for intermediate steps such as word alignment and language modeling that was used in statistical machine translation (SMT).', 'In the early days, many language-processing systems were designed by hand-coding a set of rules:[9][10] such as by writing grammars or devising heuristic rules for stemming.', 'Since the so-called \"statistical revolution\"[11][12] in the late 1980s and mid-1990s, much natural language processing research has relied heavily on machine learning.', 'The machine-learning paradigm calls instead for using statistical inference to automatically learn such rules through the analysis of large corpora (the plural form of corpus, is a set of documents, possibly with human or computer annotations) of typical real-world examples.', 'Many different classes of machine-learning algorithms have been applied to natural-language-processing tasks.', 'These algorithms take as input a large set of \"features\" that are generated from the input data.', 'Some of the earliest-used algorithms, such as decision trees, produced systems of hard if-then rules similar to the systems of handwritten rules that were then common.', 'Increasingly, however, research has focused on statistical models, which make soft, probabilistic decisions based on attaching real-valued weights to each input feature.', 'Such models have the advantage that they can express the relative certainty of many different possible answers rather than only one, producing more reliable results when such a model is included as a component of a larger system.', 'Systems based on machine-learning algorithms have many advantages over hand-produced rules:\\nThe following is a list of some of the most commonly researched tasks in natural language processing.', 'Some of these tasks have direct real-world applications, while others more commonly serve as subtasks that are used to aid in solving larger tasks.', 'Though natural language processing tasks are closely intertwined, they are frequently subdivided into categories for convenience.', 'A coarse division is given below.', 'The first published work by an artificial intelligence was published in 2018, 1 the Road, marketed as a novel, contains sixty million words.']\n"
     ]
    }
   ],
   "source": [
    "#Sentence Tokenizing\n",
    "import nltk\n",
    "from nltk.tokenize import sent_tokenize\n",
    "tokens = sent_tokenize(mytext)\n",
    "print(\"Number of sentences: \", len(tokens))\n",
    "print(tokens[:50])"
   ]
  },
  {
   "cell_type": "code",
   "execution_count": 6,
   "metadata": {
    "scrolled": true
   },
   "outputs": [
    {
     "name": "stdout",
     "output_type": "stream",
     "text": [
      "Natural language processing (NLP) is a subfield of linguistics, computer science, information engineering, and artificial intelligence concerned with the interactions between computers and human (natural) languages, in particular how to program computers to process and analyze large amounts of natural language data.\n",
      "Challenges in natural language processing frequently involve speech recognition, natural language understanding, and natural language generation.\n",
      "The history of natural language processing (NLP) generally started in the s, although work can be found from earlier periods.\n",
      "In , Alan Turing published an article titled \"Computing Machinery and Intelligence\" which proposed what is now called the Turing test as a criterion of intelligence[clarification needed].\n",
      "The Georgetown experiment in  involved fully automatic translation of more than sixty Russian sentences into English. The authors claimed that within three or five years, machine translation would be a solved problem.[]  However, real progress was much slower, and after the ALPAC report in , which found that ten-year-long research had failed to fulfill the expectations, funding for machine translation was dramatically reduced.  Little further research in machine translation was conducted until the late s when the first statistical machine translation systems were developed.\n",
      "Some notably successful natural language processing systems developed in the s were SHRDLU, a natural language system working in restricted \"blocks worlds\" with restricted vocabularies, and ELIZA, a simulation of a Rogerian psychotherapist, written by Joseph Weizenbaum between  and .  Using almost no information about human thought or emotion, ELIZA sometimes provided a startlingly human-like interaction. When the \"patient\" exceeded the very small knowledge base, ELIZA might provide a generic response, for example, responding to \"My head hurts\" with \"Why do you say your head hurts?\".\n",
      "During the s, many programmers began to write \"conceptual ontologies\", which structured real-world information into computer-understandable data.  Examples are MARGIE (Schank, ), SAM (Cullingford, ), PAM (Wilensky, ), TaleSpin (Meehan, ), QUALM (Lehnert, ), Politics (Carbonell, ), and Plot Units (Lehnert ).  During this time, many chatterbots were written including PARRY, Racter, and Jabberwacky.\n",
      "Up to the s, most natural language processing systems were based on complex sets of hand-written rules.  Starting in the late s, however, there was a revolution in natural language processing with the introduction of machine learning algorithms for language processing.  This was due to both the steady increase in computational power (see Moore's law) and the gradual lessening of the dominance of Chomskyan theories of linguistics (e.g. transformational grammar), whose theoretical underpinnings discouraged the sort of corpus linguistics that underlies the machine-learning approach to language processing.[] Some of the earliest-used machine learning algorithms, such as decision trees, produced systems of hard if-then rules similar to existing hand-written rules.  However, part-of-speech tagging introduced the use of hidden Markov models to natural language processing, and increasingly, research has focused on statistical models, which make soft, probabilistic decisions based on attaching real-valued weights to the features making up the input data. The cache language models upon which many speech recognition systems now rely are examples of such statistical models.  Such models are generally more robust when given unfamiliar input, especially input that contains errors (as is very common for real-world data), and produce more reliable results when integrated into a larger system comprising multiple subtasks.\n",
      "Many of the notable early successes occurred in the field of machine translation, due especially to work at IBM Research, where successively more complicated statistical models were developed.  These systems were able to take advantage of existing multilingual textual corpora that had been produced by the Parliament of Canada and the European Union as a result of laws calling for the translation of all governmental proceedings into all official languages of the corresponding systems of government.  However, most other systems depended on corpora specifically developed for the tasks implemented by these systems, which was (and often continues to be) a major limitation in the success of these systems. As a result, a great deal of research has gone into methods of more effectively learning from limited amounts of data.\n",
      "Recent research has increasingly focused on unsupervised and semi-supervised learning algorithms.  Such algorithms can learn from data that has not been hand-annotated with the desired answers or using a combination of annotated and non-annotated data.  Generally, this task is much more difficult than supervised learning, and typically produces less accurate results for a given amount of input data.  However, there is an enormous amount of non-annotated data available (including, among other things, the entire content of the World Wide Web), which can often make up for the inferior results if the algorithm used has a low enough time complexity to be practical.\n",
      "In the s, representation learning and deep neural network-style machine learning methods became widespread in natural language processing, due in part to a flurry of results showing that such techniques[][] can achieve state-of-the-art results in many natural language tasks, for example in language modeling,[] parsing,[][] and many others. Popular techniques include the use of word embeddings to capture semantic properties of words, and an increase in end-to-end learning of a higher-level task (e.g., question answering) instead of relying on a pipeline of separate intermediate tasks (e.g., part-of-speech tagging and dependency parsing). In some areas, this shift has entailed substantial changes in how NLP systems are designed, such that deep neural network-based approaches may be viewed as a new paradigm distinct from statistical natural language processing. For instance, the term neural machine translation (NMT) emphasizes the fact that deep learning-based approaches to machine translation directly learn sequence-to-sequence transformations, obviating the need for intermediate steps such as word alignment and language modeling that was used in statistical machine translation (SMT).\n",
      "In the early days, many language-processing systems were designed by hand-coding a set of rules:[][] such as by writing grammars or devising heuristic rules for stemming. \n",
      "Since the so-called \"statistical revolution\"[][] in the late s and mid-s, much natural language processing research has relied heavily on machine learning. The machine-learning paradigm calls instead for using statistical inference to automatically learn such rules through the analysis of large corpora (the plural form of corpus, is a set of documents, possibly with human or computer annotations) of typical real-world examples.\n",
      "Many different classes of machine-learning algorithms have been applied to natural-language-processing tasks. These algorithms take as input a large set of \"features\" that are generated from the input data. Some of the earliest-used algorithms, such as decision trees, produced systems of hard if-then rules similar to the systems of handwritten rules that were then common. Increasingly, however, research has focused on statistical models, which make soft, probabilistic decisions based on attaching real-valued weights to each input feature. Such models have the advantage that they can express the relative certainty of many different possible answers rather than only one, producing more reliable results when such a model is included as a component of a larger system.\n",
      "Systems based on machine-learning algorithms have many advantages over hand-produced rules:\n",
      "The following is a list of some of the most commonly researched tasks in natural language processing. Some of these tasks have direct real-world applications, while others more commonly serve as subtasks that are used to aid in solving larger tasks.\n",
      "Though natural language processing tasks are closely intertwined, they are frequently subdivided into categories for convenience. A coarse division is given below.\n",
      "The first published work by an artificial intelligence was published in ,  the Road, marketed as a novel, contains sixty million words.\n",
      "\n"
     ]
    }
   ],
   "source": [
    "#Word Tokenizing with regular expression to remove numbers\n",
    "from nltk.tokenize import RegexpTokenizer\n",
    "mytext = re.sub('[0-9]+', '', mytext)\n",
    "print(mytext)"
   ]
  },
  {
   "cell_type": "code",
   "execution_count": 7,
   "metadata": {},
   "outputs": [
    {
     "name": "stdout",
     "output_type": "stream",
     "text": [
      "Number of words after word tokenizing:  1441\n",
      "['Natural', 'language', 'processing', '(', 'NLP', ')', 'is', 'a', 'subfield', 'of', 'linguistics', ',', 'computer', 'science', ',', 'information', 'engineering', ',', 'and', 'artificial', 'intelligence', 'concerned', 'with', 'the', 'interactions', 'between', 'computers', 'and', 'human', '(', 'natural', ')', 'languages', ',', 'in', 'particular', 'how', 'to', 'program', 'computers', 'to', 'process', 'and', 'analyze', 'large', 'amounts', 'of', 'natural', 'language', 'data']\n"
     ]
    }
   ],
   "source": [
    "# Word Tokenizing\n",
    "from nltk.tokenize import word_tokenize\n",
    "tokens = word_tokenize(mytext)\n",
    "print(\"Number of words after word tokenizing: \", len(tokens))\n",
    "print(tokens[:50])"
   ]
  },
  {
   "cell_type": "code",
   "execution_count": 8,
   "metadata": {},
   "outputs": [
    {
     "name": "stdout",
     "output_type": "stream",
     "text": [
      "Number of words after word tokenizing with removing punctuation:  1270\n"
     ]
    }
   ],
   "source": [
    "#Word Tokenizing with regular expression to remove punctuation\n",
    "from nltk.tokenize import RegexpTokenizer\n",
    "tokenizer = RegexpTokenizer(r'\\w+')\n",
    "regexp_tokens = tokenizer.tokenize(mytext.lower())\n",
    "print(\"Number of words after word tokenizing with removing punctuation: \", len(regexp_tokens))"
   ]
  },
  {
   "cell_type": "code",
   "execution_count": 9,
   "metadata": {
    "scrolled": true
   },
   "outputs": [
    {
     "name": "stdout",
     "output_type": "stream",
     "text": [
      "['natural', 'language', 'processing', 'nlp', 'is', 'a', 'subfield', 'of', 'linguistics', 'computer', 'science', 'information', 'engineering', 'and', 'artificial', 'intelligence', 'concerned', 'with', 'the', 'interactions', 'between', 'computers', 'and', 'human', 'natural', 'languages', 'in', 'particular', 'how', 'to', 'program', 'computers', 'to', 'process', 'and', 'analyze', 'large', 'amounts', 'of', 'natural', 'language', 'data', 'challenges', 'in', 'natural', 'language', 'processing', 'frequently', 'involve', 'speech', 'recognition', 'natural', 'language', 'understanding', 'and', 'natural', 'language', 'generation', 'the', 'history', 'of', 'natural', 'language', 'processing', 'nlp', 'generally', 'started', 'in', 'the', 's', 'although', 'work', 'can', 'be', 'found', 'from', 'earlier', 'periods', 'in', 'alan', 'turing', 'published', 'an', 'article', 'titled', 'computing', 'machinery', 'and', 'intelligence', 'which', 'proposed', 'what', 'is', 'now', 'called', 'the', 'turing', 'test', 'as', 'a', 'criterion', 'of', 'intelligence', 'clarification', 'needed', 'the', 'georgetown', 'experiment', 'in', 'involved', 'fully', 'automatic', 'translation', 'of', 'more', 'than', 'sixty', 'russian', 'sentences', 'into', 'english', 'the', 'authors', 'claimed', 'that', 'within', 'three', 'or', 'five', 'years', 'machine', 'translation', 'would', 'be', 'a', 'solved', 'problem', 'however', 'real', 'progress', 'was', 'much', 'slower', 'and', 'after', 'the', 'alpac', 'report', 'in', 'which', 'found', 'that', 'ten', 'year', 'long', 'research', 'had', 'failed', 'to', 'fulfill', 'the', 'expectations', 'funding', 'for', 'machine', 'translation', 'was', 'dramatically', 'reduced', 'little', 'further', 'research', 'in', 'machine', 'translation', 'was', 'conducted', 'until', 'the', 'late', 's', 'when', 'the', 'first', 'statistical', 'machine', 'translation', 'systems', 'were', 'developed', 'some', 'notably', 'successful', 'natural', 'language', 'processing', 'systems', 'developed', 'in', 'the', 's', 'were', 'shrdlu', 'a', 'natural', 'language', 'system', 'working', 'in', 'restricted', 'blocks', 'worlds', 'with', 'restricted', 'vocabularies', 'and', 'eliza', 'a', 'simulation', 'of', 'a', 'rogerian', 'psychotherapist', 'written', 'by', 'joseph', 'weizenbaum', 'between', 'and', 'using', 'almost', 'no', 'information', 'about', 'human', 'thought', 'or', 'emotion', 'eliza', 'sometimes', 'provided', 'a', 'startlingly', 'human', 'like', 'interaction', 'when', 'the', 'patient', 'exceeded', 'the', 'very', 'small', 'knowledge', 'base', 'eliza', 'might', 'provide', 'a', 'generic', 'response', 'for', 'example', 'responding', 'to', 'my', 'head', 'hurts', 'with', 'why', 'do', 'you', 'say', 'your', 'head', 'hurts', 'during', 'the', 's', 'many', 'programmers', 'began', 'to', 'write', 'conceptual', 'ontologies', 'which', 'structured', 'real', 'world', 'information', 'into', 'computer', 'understandable', 'data', 'examples', 'are', 'margie', 'schank', 'sam', 'cullingford', 'pam', 'wilensky', 'talespin', 'meehan', 'qualm', 'lehnert', 'politics', 'carbonell', 'and', 'plot', 'units', 'lehnert', 'during', 'this', 'time', 'many', 'chatterbots', 'were', 'written', 'including', 'parry', 'racter', 'and', 'jabberwacky', 'up', 'to', 'the', 's', 'most', 'natural', 'language', 'processing', 'systems', 'were', 'based', 'on', 'complex', 'sets', 'of', 'hand', 'written', 'rules', 'starting', 'in', 'the', 'late', 's', 'however', 'there', 'was', 'a', 'revolution', 'in', 'natural', 'language', 'processing', 'with', 'the', 'introduction', 'of', 'machine', 'learning', 'algorithms', 'for', 'language', 'processing', 'this', 'was', 'due', 'to', 'both', 'the', 'steady', 'increase', 'in', 'computational', 'power', 'see', 'moore', 's', 'law', 'and', 'the', 'gradual', 'lessening', 'of', 'the', 'dominance', 'of', 'chomskyan', 'theories', 'of', 'linguistics', 'e', 'g', 'transformational', 'grammar', 'whose', 'theoretical', 'underpinnings', 'discouraged', 'the', 'sort', 'of', 'corpus', 'linguistics', 'that', 'underlies', 'the', 'machine', 'learning', 'approach', 'to', 'language', 'processing', 'some', 'of', 'the', 'earliest', 'used', 'machine', 'learning', 'algorithms', 'such', 'as', 'decision', 'trees', 'produced', 'systems', 'of', 'hard', 'if', 'then', 'rules', 'similar', 'to', 'existing', 'hand', 'written', 'rules', 'however', 'part', 'of', 'speech', 'tagging', 'introduced', 'the', 'use', 'of', 'hidden', 'markov', 'models', 'to', 'natural', 'language', 'processing', 'and', 'increasingly', 'research', 'has', 'focused', 'on', 'statistical', 'models', 'which', 'make', 'soft', 'probabilistic', 'decisions', 'based', 'on', 'attaching', 'real', 'valued', 'weights', 'to', 'the', 'features', 'making', 'up', 'the', 'input', 'data', 'the', 'cache', 'language', 'models', 'upon', 'which', 'many', 'speech', 'recognition', 'systems', 'now', 'rely', 'are', 'examples', 'of', 'such', 'statistical', 'models', 'such', 'models', 'are', 'generally', 'more', 'robust', 'when', 'given', 'unfamiliar', 'input', 'especially', 'input', 'that', 'contains', 'errors', 'as', 'is', 'very', 'common', 'for', 'real', 'world', 'data', 'and', 'produce', 'more', 'reliable', 'results', 'when', 'integrated', 'into', 'a', 'larger', 'system', 'comprising', 'multiple', 'subtasks', 'many', 'of', 'the', 'notable', 'early', 'successes', 'occurred', 'in', 'the', 'field', 'of', 'machine', 'translation', 'due', 'especially', 'to', 'work', 'at', 'ibm', 'research', 'where', 'successively', 'more', 'complicated', 'statistical', 'models', 'were', 'developed', 'these', 'systems', 'were', 'able', 'to', 'take', 'advantage', 'of', 'existing', 'multilingual', 'textual', 'corpora', 'that', 'had', 'been', 'produced', 'by', 'the', 'parliament', 'of', 'canada', 'and', 'the', 'european', 'union', 'as', 'a', 'result', 'of', 'laws', 'calling', 'for', 'the', 'translation', 'of', 'all', 'governmental', 'proceedings', 'into', 'all', 'official', 'languages', 'of', 'the', 'corresponding', 'systems', 'of', 'government', 'however', 'most', 'other', 'systems', 'depended', 'on', 'corpora', 'specifically', 'developed', 'for', 'the', 'tasks', 'implemented', 'by', 'these', 'systems', 'which', 'was', 'and', 'often', 'continues', 'to', 'be', 'a', 'major', 'limitation', 'in', 'the', 'success', 'of', 'these', 'systems', 'as', 'a', 'result', 'a', 'great', 'deal', 'of', 'research', 'has', 'gone', 'into', 'methods', 'of', 'more', 'effectively', 'learning', 'from', 'limited', 'amounts', 'of', 'data', 'recent', 'research', 'has', 'increasingly', 'focused', 'on', 'unsupervised', 'and', 'semi', 'supervised', 'learning', 'algorithms', 'such', 'algorithms', 'can', 'learn', 'from', 'data', 'that', 'has', 'not', 'been', 'hand', 'annotated', 'with', 'the', 'desired', 'answers', 'or', 'using', 'a', 'combination', 'of', 'annotated', 'and', 'non', 'annotated', 'data', 'generally', 'this', 'task', 'is', 'much', 'more', 'difficult', 'than', 'supervised', 'learning', 'and', 'typically', 'produces', 'less', 'accurate', 'results', 'for', 'a', 'given', 'amount', 'of', 'input', 'data', 'however', 'there', 'is', 'an', 'enormous', 'amount', 'of', 'non', 'annotated', 'data', 'available', 'including', 'among', 'other', 'things', 'the', 'entire', 'content', 'of', 'the', 'world', 'wide', 'web', 'which', 'can', 'often', 'make', 'up', 'for', 'the', 'inferior', 'results', 'if', 'the', 'algorithm', 'used', 'has', 'a', 'low', 'enough', 'time', 'complexity', 'to', 'be', 'practical', 'in', 'the', 's', 'representation', 'learning', 'and', 'deep', 'neural', 'network', 'style', 'machine', 'learning', 'methods', 'became', 'widespread', 'in', 'natural', 'language', 'processing', 'due', 'in', 'part', 'to', 'a', 'flurry', 'of', 'results', 'showing', 'that', 'such', 'techniques', 'can', 'achieve', 'state', 'of', 'the', 'art', 'results', 'in', 'many', 'natural', 'language', 'tasks', 'for', 'example', 'in', 'language', 'modeling', 'parsing', 'and', 'many', 'others', 'popular', 'techniques', 'include', 'the', 'use', 'of', 'word', 'embeddings', 'to', 'capture', 'semantic', 'properties', 'of', 'words', 'and', 'an', 'increase', 'in', 'end', 'to', 'end', 'learning', 'of', 'a', 'higher', 'level', 'task', 'e', 'g', 'question', 'answering', 'instead', 'of', 'relying', 'on', 'a', 'pipeline', 'of', 'separate', 'intermediate', 'tasks', 'e', 'g', 'part', 'of', 'speech', 'tagging', 'and', 'dependency', 'parsing', 'in', 'some', 'areas', 'this', 'shift', 'has', 'entailed', 'substantial', 'changes', 'in', 'how', 'nlp', 'systems', 'are', 'designed', 'such', 'that', 'deep', 'neural', 'network', 'based', 'approaches', 'may', 'be', 'viewed', 'as', 'a', 'new', 'paradigm', 'distinct', 'from', 'statistical', 'natural', 'language', 'processing', 'for', 'instance', 'the', 'term', 'neural', 'machine', 'translation', 'nmt', 'emphasizes', 'the', 'fact', 'that', 'deep', 'learning', 'based', 'approaches', 'to', 'machine', 'translation', 'directly', 'learn', 'sequence', 'to', 'sequence', 'transformations', 'obviating', 'the', 'need', 'for', 'intermediate', 'steps', 'such', 'as', 'word', 'alignment', 'and', 'language', 'modeling', 'that', 'was', 'used', 'in', 'statistical', 'machine', 'translation', 'smt', 'in', 'the', 'early', 'days', 'many', 'language', 'processing', 'systems', 'were', 'designed', 'by', 'hand', 'coding', 'a', 'set', 'of', 'rules', 'such', 'as', 'by', 'writing', 'grammars', 'or', 'devising', 'heuristic', 'rules', 'for', 'stemming', 'since', 'the', 'so', 'called', 'statistical', 'revolution', 'in', 'the', 'late', 's', 'and', 'mid', 's', 'much', 'natural', 'language', 'processing', 'research', 'has', 'relied', 'heavily', 'on', 'machine', 'learning', 'the', 'machine', 'learning', 'paradigm', 'calls', 'instead', 'for', 'using', 'statistical', 'inference', 'to', 'automatically', 'learn', 'such', 'rules', 'through', 'the', 'analysis', 'of', 'large', 'corpora', 'the', 'plural', 'form', 'of', 'corpus', 'is', 'a', 'set', 'of', 'documents', 'possibly', 'with', 'human', 'or', 'computer', 'annotations', 'of', 'typical', 'real', 'world', 'examples', 'many', 'different', 'classes', 'of', 'machine', 'learning', 'algorithms', 'have', 'been', 'applied', 'to', 'natural', 'language', 'processing', 'tasks', 'these', 'algorithms', 'take', 'as', 'input', 'a', 'large', 'set', 'of', 'features', 'that', 'are', 'generated', 'from', 'the', 'input', 'data', 'some', 'of', 'the', 'earliest', 'used', 'algorithms', 'such', 'as', 'decision', 'trees', 'produced', 'systems', 'of', 'hard', 'if', 'then', 'rules', 'similar', 'to', 'the', 'systems', 'of', 'handwritten', 'rules', 'that', 'were', 'then', 'common', 'increasingly', 'however', 'research', 'has', 'focused', 'on', 'statistical', 'models', 'which', 'make', 'soft', 'probabilistic', 'decisions', 'based', 'on', 'attaching', 'real', 'valued', 'weights', 'to', 'each', 'input', 'feature', 'such', 'models', 'have', 'the', 'advantage', 'that', 'they', 'can', 'express', 'the', 'relative', 'certainty', 'of', 'many', 'different', 'possible', 'answers', 'rather', 'than', 'only', 'one', 'producing', 'more', 'reliable', 'results', 'when', 'such', 'a', 'model', 'is', 'included', 'as', 'a', 'component', 'of', 'a', 'larger', 'system', 'systems', 'based', 'on', 'machine', 'learning', 'algorithms', 'have', 'many', 'advantages', 'over', 'hand', 'produced', 'rules', 'the', 'following', 'is', 'a', 'list', 'of', 'some', 'of', 'the', 'most', 'commonly', 'researched', 'tasks', 'in', 'natural', 'language', 'processing', 'some', 'of', 'these', 'tasks', 'have', 'direct', 'real', 'world', 'applications', 'while', 'others', 'more', 'commonly', 'serve', 'as', 'subtasks', 'that', 'are', 'used', 'to', 'aid', 'in', 'solving', 'larger', 'tasks', 'though', 'natural', 'language', 'processing', 'tasks', 'are', 'closely', 'intertwined', 'they', 'are', 'frequently', 'subdivided', 'into', 'categories', 'for', 'convenience', 'a', 'coarse', 'division', 'is', 'given', 'below', 'the', 'first', 'published', 'work', 'by', 'an', 'artificial', 'intelligence', 'was', 'published', 'in', 'the', 'road', 'marketed', 'as', 'a', 'novel', 'contains', 'sixty', 'million', 'words']\n"
     ]
    }
   ],
   "source": [
    "print(regexp_tokens[0:]) "
   ]
  },
  {
   "cell_type": "code",
   "execution_count": 10,
   "metadata": {},
   "outputs": [
    {
     "name": "stdout",
     "output_type": "stream",
     "text": [
      "Number of words without stop words:  790\n"
     ]
    }
   ],
   "source": [
    "#Removing the stop words\n",
    "from nltk.corpus import stopwords\n",
    "stopwords_tokens = [token for token in regexp_tokens if token not in stopwords.words('english')]\n",
    "print(\"Number of words without stop words: \", len(stopwords_tokens))\n"
   ]
  },
  {
   "cell_type": "code",
   "execution_count": 11,
   "metadata": {
    "scrolled": true
   },
   "outputs": [
    {
     "name": "stdout",
     "output_type": "stream",
     "text": [
      "['natural', 'language', 'processing', 'nlp', 'subfield', 'linguistics', 'computer', 'science', 'information', 'engineering', 'artificial', 'intelligence', 'concerned', 'interaction', 'computer', 'human', 'natural', 'language', 'particular', 'program', 'computer', 'process', 'analyze', 'large', 'amount', 'natural', 'language', 'data', 'challenge', 'natural', 'language', 'processing', 'frequently', 'involve', 'speech', 'recognition', 'natural', 'language', 'understanding', 'natural', 'language', 'generation', 'history', 'natural', 'language', 'processing', 'nlp', 'generally', 'started', 'although', 'work', 'found', 'earlier', 'period', 'alan', 'turing', 'published', 'article', 'titled', 'computing', 'machinery', 'intelligence', 'proposed', 'called', 'turing', 'test', 'criterion', 'intelligence', 'clarification', 'needed', 'georgetown', 'experiment', 'involved', 'fully', 'automatic', 'translation', 'sixty', 'russian', 'sentence', 'english', 'author', 'claimed', 'within', 'three', 'five', 'year', 'machine', 'translation', 'would', 'solved', 'problem', 'however', 'real', 'progress', 'much', 'slower', 'alpac', 'report', 'found', 'ten', 'year', 'long', 'research', 'failed', 'fulfill', 'expectation', 'funding', 'machine', 'translation', 'dramatically', 'reduced', 'little', 'research', 'machine', 'translation', 'conducted', 'late', 'first', 'statistical', 'machine', 'translation', 'system', 'developed', 'notably', 'successful', 'natural', 'language', 'processing', 'system', 'developed', 'shrdlu', 'natural', 'language', 'system', 'working', 'restricted', 'block', 'world', 'restricted', 'vocabulary', 'eliza', 'simulation', 'rogerian', 'psychotherapist', 'written', 'joseph', 'weizenbaum', 'using', 'almost', 'information', 'human', 'thought', 'emotion', 'eliza', 'sometimes', 'provided', 'startlingly', 'human', 'like', 'interaction', 'patient', 'exceeded', 'small', 'knowledge', 'base', 'eliza', 'might', 'provide', 'generic', 'response', 'example', 'responding', 'head', 'hurt', 'say', 'head', 'hurt', 'many', 'programmer', 'began', 'write', 'conceptual', 'ontology', 'structured', 'real', 'world', 'information', 'computer', 'understandable', 'data', 'example', 'margie', 'schank', 'sam', 'cullingford', 'pam', 'wilensky', 'talespin', 'meehan', 'qualm', 'lehnert', 'politics', 'carbonell', 'plot', 'unit', 'lehnert', 'time', 'many', 'chatterbots', 'written', 'including', 'parry', 'racter', 'jabberwacky', 'natural', 'language', 'processing', 'system', 'based', 'complex', 'set', 'hand', 'written', 'rule', 'starting', 'late', 'however', 'revolution', 'natural', 'language', 'processing', 'introduction', 'machine', 'learning', 'algorithm', 'language', 'processing', 'due', 'steady', 'increase', 'computational', 'power', 'see', 'moore', 'law', 'gradual', 'lessening', 'dominance', 'chomskyan', 'theory', 'linguistics', 'e', 'g', 'transformational', 'grammar', 'whose', 'theoretical', 'underpinnings', 'discouraged', 'sort', 'corpus', 'linguistics', 'underlies', 'machine', 'learning', 'approach', 'language', 'processing', 'earliest', 'used', 'machine', 'learning', 'algorithm', 'decision', 'tree', 'produced', 'system', 'hard', 'rule', 'similar', 'existing', 'hand', 'written', 'rule', 'however', 'part', 'speech', 'tagging', 'introduced', 'use', 'hidden', 'markov', 'model', 'natural', 'language', 'processing', 'increasingly', 'research', 'focused', 'statistical', 'model', 'make', 'soft', 'probabilistic', 'decision', 'based', 'attaching', 'real', 'valued', 'weight', 'feature', 'making', 'input', 'data', 'cache', 'language', 'model', 'upon', 'many', 'speech', 'recognition', 'system', 'rely', 'example', 'statistical', 'model', 'model', 'generally', 'robust', 'given', 'unfamiliar', 'input', 'especially', 'input', 'contains', 'error', 'common', 'real', 'world', 'data', 'produce', 'reliable', 'result', 'integrated', 'larger', 'system', 'comprising', 'multiple', 'subtasks', 'many', 'notable', 'early', 'success', 'occurred', 'field', 'machine', 'translation', 'due', 'especially', 'work', 'ibm', 'research', 'successively', 'complicated', 'statistical', 'model', 'developed', 'system', 'able', 'take', 'advantage', 'existing', 'multilingual', 'textual', 'corpus', 'produced', 'parliament', 'canada', 'european', 'union', 'result', 'law', 'calling', 'translation', 'governmental', 'proceeding', 'official', 'language', 'corresponding', 'system', 'government', 'however', 'system', 'depended', 'corpus', 'specifically', 'developed', 'task', 'implemented', 'system', 'often', 'continues', 'major', 'limitation', 'success', 'system', 'result', 'great', 'deal', 'research', 'gone', 'method', 'effectively', 'learning', 'limited', 'amount', 'data', 'recent', 'research', 'increasingly', 'focused', 'unsupervised', 'semi', 'supervised', 'learning', 'algorithm', 'algorithm', 'learn', 'data', 'hand', 'annotated', 'desired', 'answer', 'using', 'combination', 'annotated', 'non', 'annotated', 'data', 'generally', 'task', 'much', 'difficult', 'supervised', 'learning', 'typically', 'produce', 'le', 'accurate', 'result', 'given', 'amount', 'input', 'data', 'however', 'enormous', 'amount', 'non', 'annotated', 'data', 'available', 'including', 'among', 'thing', 'entire', 'content', 'world', 'wide', 'web', 'often', 'make', 'inferior', 'result', 'algorithm', 'used', 'low', 'enough', 'time', 'complexity', 'practical', 'representation', 'learning', 'deep', 'neural', 'network', 'style', 'machine', 'learning', 'method', 'became', 'widespread', 'natural', 'language', 'processing', 'due', 'part', 'flurry', 'result', 'showing', 'technique', 'achieve', 'state', 'art', 'result', 'many', 'natural', 'language', 'task', 'example', 'language', 'modeling', 'parsing', 'many', 'others', 'popular', 'technique', 'include', 'use', 'word', 'embeddings', 'capture', 'semantic', 'property', 'word', 'increase', 'end', 'end', 'learning', 'higher', 'level', 'task', 'e', 'g', 'question', 'answering', 'instead', 'relying', 'pipeline', 'separate', 'intermediate', 'task', 'e', 'g', 'part', 'speech', 'tagging', 'dependency', 'parsing', 'area', 'shift', 'entailed', 'substantial', 'change', 'nlp', 'system', 'designed', 'deep', 'neural', 'network', 'based', 'approach', 'may', 'viewed', 'new', 'paradigm', 'distinct', 'statistical', 'natural', 'language', 'processing', 'instance', 'term', 'neural', 'machine', 'translation', 'nmt', 'emphasizes', 'fact', 'deep', 'learning', 'based', 'approach', 'machine', 'translation', 'directly', 'learn', 'sequence', 'sequence', 'transformation', 'obviating', 'need', 'intermediate', 'step', 'word', 'alignment', 'language', 'modeling', 'used', 'statistical', 'machine', 'translation', 'smt', 'early', 'day', 'many', 'language', 'processing', 'system', 'designed', 'hand', 'coding', 'set', 'rule', 'writing', 'grammar', 'devising', 'heuristic', 'rule', 'stemming', 'since', 'called', 'statistical', 'revolution', 'late', 'mid', 'much', 'natural', 'language', 'processing', 'research', 'relied', 'heavily', 'machine', 'learning', 'machine', 'learning', 'paradigm', 'call', 'instead', 'using', 'statistical', 'inference', 'automatically', 'learn', 'rule', 'analysis', 'large', 'corpus', 'plural', 'form', 'corpus', 'set', 'document', 'possibly', 'human', 'computer', 'annotation', 'typical', 'real', 'world', 'example', 'many', 'different', 'class', 'machine', 'learning', 'algorithm', 'applied', 'natural', 'language', 'processing', 'task', 'algorithm', 'take', 'input', 'large', 'set', 'feature', 'generated', 'input', 'data', 'earliest', 'used', 'algorithm', 'decision', 'tree', 'produced', 'system', 'hard', 'rule', 'similar', 'system', 'handwritten', 'rule', 'common', 'increasingly', 'however', 'research', 'focused', 'statistical', 'model', 'make', 'soft', 'probabilistic', 'decision', 'based', 'attaching', 'real', 'valued', 'weight', 'input', 'feature', 'model', 'advantage', 'express', 'relative', 'certainty', 'many', 'different', 'possible', 'answer', 'rather', 'one', 'producing', 'reliable', 'result', 'model', 'included', 'component', 'larger', 'system', 'system', 'based', 'machine', 'learning', 'algorithm', 'many', 'advantage', 'hand', 'produced', 'rule', 'following', 'list', 'commonly', 'researched', 'task', 'natural', 'language', 'processing', 'task', 'direct', 'real', 'world', 'application', 'others', 'commonly', 'serve', 'subtasks', 'used', 'aid', 'solving', 'larger', 'task', 'though', 'natural', 'language', 'processing', 'task', 'closely', 'intertwined', 'frequently', 'subdivided', 'category', 'convenience', 'coarse', 'division', 'given', 'first', 'published', 'work', 'artificial', 'intelligence', 'published', 'road', 'marketed', 'novel', 'contains', 'sixty', 'million', 'word']\n"
     ]
    }
   ],
   "source": [
    "#Function to lemmatize words.\n",
    "from nltk.stem import WordNetLemmatizer\n",
    "lemmatizer = WordNetLemmatizer()\n",
    "Words_Lemmatize=[lemmatizer.lemmatize(w) for w in stopwords_tokens]\n",
    "print(Words_Lemmatize)"
   ]
  },
  {
   "cell_type": "code",
   "execution_count": 22,
   "metadata": {},
   "outputs": [],
   "source": [
    "#Word distribution using FreqDist\n",
    "import nltk\n",
    "from nltk.corpus import brown\n",
    "from nltk import FreqDist\n",
    "freq_dist = nltk.FreqDist(Words_Lemmatize)\n",
    "fdist = FreqDist([w.lower() for w in Words_Lemmatize])"
   ]
  },
  {
   "cell_type": "code",
   "execution_count": 14,
   "metadata": {},
   "outputs": [
    {
     "name": "stdout",
     "output_type": "stream",
     "text": [
      "<FreqDist with 414 samples and 790 outcomes>\n"
     ]
    },
    {
     "data": {
      "text/plain": [
       "[('language', 26),\n",
       " ('natural', 19),\n",
       " ('system', 18),\n",
       " ('processing', 16),\n",
       " ('machine', 16),\n",
       " ('learning', 14),\n",
       " ('data', 10),\n",
       " ('translation', 10),\n",
       " ('many', 10),\n",
       " ('task', 10),\n",
       " ('statistical', 9),\n",
       " ('rule', 9),\n",
       " ('algorithm', 9),\n",
       " ('model', 9),\n",
       " ('research', 8)]"
      ]
     },
     "execution_count": 14,
     "metadata": {},
     "output_type": "execute_result"
    }
   ],
   "source": [
    "from nltk import FreqDist\n",
    "freqdist = FreqDist(Words_Lemmatize)\n",
    "print(freqdist)\n",
    "vocabulary = freqdist.keys()\n",
    "freqdist.most_common(15)"
   ]
  },
  {
   "cell_type": "code",
   "execution_count": 12,
   "metadata": {},
   "outputs": [
    {
     "data": {
      "text/plain": [
       "<Figure size 640x480 with 1 Axes>"
      ]
     },
     "metadata": {},
     "output_type": "display_data"
    },
    {
     "data": {
      "text/plain": [
       "<matplotlib.axes._subplots.AxesSubplot at 0x16e788d6710>"
      ]
     },
     "execution_count": 12,
     "metadata": {},
     "output_type": "execute_result"
    }
   ],
   "source": [
    "#Top 15 used words\n",
    "from nltk.corpus import brown\n",
    "from nltk import FreqDist\n",
    "freqdist = nltk.FreqDist(Words_Lemmatize)\n",
    "k = 15\n",
    "freqdist.plot(k)"
   ]
  },
  {
   "cell_type": "code",
   "execution_count": 13,
   "metadata": {
    "scrolled": true
   },
   "outputs": [
    {
     "data": {
      "text/plain": [
       "['subfield',\n",
       " 'science',\n",
       " 'engineering',\n",
       " 'concerned',\n",
       " 'particular',\n",
       " 'program',\n",
       " 'process',\n",
       " 'analyze',\n",
       " 'challenge',\n",
       " 'involve',\n",
       " 'understanding',\n",
       " 'generation',\n",
       " 'history',\n",
       " 'started',\n",
       " 'although',\n",
       " 'earlier',\n",
       " 'period',\n",
       " 'alan',\n",
       " 'article',\n",
       " 'titled',\n",
       " 'computing',\n",
       " 'machinery',\n",
       " 'proposed',\n",
       " 'test',\n",
       " 'criterion',\n",
       " 'clarification',\n",
       " 'needed',\n",
       " 'georgetown',\n",
       " 'experiment',\n",
       " 'involved',\n",
       " 'fully',\n",
       " 'automatic',\n",
       " 'russian',\n",
       " 'sentence',\n",
       " 'english',\n",
       " 'author',\n",
       " 'claimed',\n",
       " 'within',\n",
       " 'three',\n",
       " 'five',\n",
       " 'would',\n",
       " 'solved',\n",
       " 'problem',\n",
       " 'progress',\n",
       " 'slower',\n",
       " 'alpac',\n",
       " 'report',\n",
       " 'ten',\n",
       " 'long',\n",
       " 'failed',\n",
       " 'fulfill',\n",
       " 'expectation',\n",
       " 'funding',\n",
       " 'dramatically',\n",
       " 'reduced',\n",
       " 'little',\n",
       " 'conducted',\n",
       " 'notably',\n",
       " 'successful',\n",
       " 'shrdlu',\n",
       " 'working',\n",
       " 'block',\n",
       " 'vocabulary',\n",
       " 'simulation',\n",
       " 'rogerian',\n",
       " 'psychotherapist',\n",
       " 'joseph',\n",
       " 'weizenbaum',\n",
       " 'almost',\n",
       " 'thought',\n",
       " 'emotion',\n",
       " 'sometimes',\n",
       " 'provided',\n",
       " 'startlingly',\n",
       " 'like',\n",
       " 'patient',\n",
       " 'exceeded',\n",
       " 'small',\n",
       " 'knowledge',\n",
       " 'base',\n",
       " 'might',\n",
       " 'provide',\n",
       " 'generic',\n",
       " 'response',\n",
       " 'responding',\n",
       " 'say',\n",
       " 'programmer',\n",
       " 'began',\n",
       " 'write',\n",
       " 'conceptual',\n",
       " 'ontology',\n",
       " 'structured',\n",
       " 'understandable',\n",
       " 'margie',\n",
       " 'schank',\n",
       " 'sam',\n",
       " 'cullingford',\n",
       " 'pam',\n",
       " 'wilensky',\n",
       " 'talespin',\n",
       " 'meehan',\n",
       " 'qualm',\n",
       " 'politics',\n",
       " 'carbonell',\n",
       " 'plot',\n",
       " 'unit',\n",
       " 'chatterbots',\n",
       " 'parry',\n",
       " 'racter',\n",
       " 'jabberwacky',\n",
       " 'complex',\n",
       " 'starting',\n",
       " 'introduction',\n",
       " 'steady',\n",
       " 'computational',\n",
       " 'power',\n",
       " 'see',\n",
       " 'moore',\n",
       " 'gradual',\n",
       " 'lessening',\n",
       " 'dominance',\n",
       " 'chomskyan',\n",
       " 'theory',\n",
       " 'transformational',\n",
       " 'whose',\n",
       " 'theoretical',\n",
       " 'underpinnings',\n",
       " 'discouraged',\n",
       " 'sort',\n",
       " 'underlies',\n",
       " 'introduced',\n",
       " 'hidden',\n",
       " 'markov',\n",
       " 'making',\n",
       " 'cache',\n",
       " 'upon',\n",
       " 'rely',\n",
       " 'robust',\n",
       " 'unfamiliar',\n",
       " 'error',\n",
       " 'integrated',\n",
       " 'comprising',\n",
       " 'multiple',\n",
       " 'notable',\n",
       " 'occurred',\n",
       " 'field',\n",
       " 'ibm',\n",
       " 'successively',\n",
       " 'complicated',\n",
       " 'able',\n",
       " 'multilingual',\n",
       " 'textual',\n",
       " 'parliament',\n",
       " 'canada',\n",
       " 'european',\n",
       " 'union',\n",
       " 'calling',\n",
       " 'governmental',\n",
       " 'proceeding',\n",
       " 'official',\n",
       " 'corresponding',\n",
       " 'government',\n",
       " 'depended',\n",
       " 'specifically',\n",
       " 'implemented',\n",
       " 'continues',\n",
       " 'major',\n",
       " 'limitation',\n",
       " 'great',\n",
       " 'deal',\n",
       " 'gone',\n",
       " 'effectively',\n",
       " 'limited',\n",
       " 'recent',\n",
       " 'unsupervised',\n",
       " 'semi',\n",
       " 'desired',\n",
       " 'combination',\n",
       " 'difficult',\n",
       " 'typically',\n",
       " 'le',\n",
       " 'accurate',\n",
       " 'enormous',\n",
       " 'available',\n",
       " 'among',\n",
       " 'thing',\n",
       " 'entire',\n",
       " 'content',\n",
       " 'wide',\n",
       " 'web',\n",
       " 'inferior',\n",
       " 'low',\n",
       " 'enough',\n",
       " 'complexity',\n",
       " 'practical',\n",
       " 'representation',\n",
       " 'style',\n",
       " 'became',\n",
       " 'widespread',\n",
       " 'flurry',\n",
       " 'showing',\n",
       " 'achieve',\n",
       " 'state',\n",
       " 'art',\n",
       " 'popular',\n",
       " 'include',\n",
       " 'embeddings',\n",
       " 'capture',\n",
       " 'semantic',\n",
       " 'property',\n",
       " 'higher',\n",
       " 'level',\n",
       " 'question',\n",
       " 'answering',\n",
       " 'relying',\n",
       " 'pipeline',\n",
       " 'separate',\n",
       " 'dependency',\n",
       " 'area',\n",
       " 'shift',\n",
       " 'entailed',\n",
       " 'substantial',\n",
       " 'change',\n",
       " 'may',\n",
       " 'viewed',\n",
       " 'new',\n",
       " 'distinct',\n",
       " 'instance',\n",
       " 'term',\n",
       " 'nmt',\n",
       " 'emphasizes',\n",
       " 'fact',\n",
       " 'directly',\n",
       " 'transformation',\n",
       " 'obviating',\n",
       " 'need',\n",
       " 'step',\n",
       " 'alignment',\n",
       " 'smt',\n",
       " 'day',\n",
       " 'coding',\n",
       " 'writing',\n",
       " 'devising',\n",
       " 'heuristic',\n",
       " 'stemming',\n",
       " 'since',\n",
       " 'mid',\n",
       " 'relied',\n",
       " 'heavily',\n",
       " 'call',\n",
       " 'inference',\n",
       " 'automatically',\n",
       " 'analysis',\n",
       " 'plural',\n",
       " 'form',\n",
       " 'document',\n",
       " 'possibly',\n",
       " 'annotation',\n",
       " 'typical',\n",
       " 'class',\n",
       " 'applied',\n",
       " 'generated',\n",
       " 'handwritten',\n",
       " 'express',\n",
       " 'relative',\n",
       " 'certainty',\n",
       " 'possible',\n",
       " 'rather',\n",
       " 'one',\n",
       " 'producing',\n",
       " 'included',\n",
       " 'component',\n",
       " 'following',\n",
       " 'list',\n",
       " 'researched',\n",
       " 'direct',\n",
       " 'application',\n",
       " 'serve',\n",
       " 'aid',\n",
       " 'solving',\n",
       " 'though',\n",
       " 'closely',\n",
       " 'intertwined',\n",
       " 'subdivided',\n",
       " 'category',\n",
       " 'convenience',\n",
       " 'coarse',\n",
       " 'division',\n",
       " 'road',\n",
       " 'marketed',\n",
       " 'novel',\n",
       " 'million']"
      ]
     },
     "execution_count": 13,
     "metadata": {},
     "output_type": "execute_result"
    }
   ],
   "source": [
    "#words occured only once in a list\n",
    "freqdist.hapaxes()"
   ]
  },
  {
   "cell_type": "code",
   "execution_count": 14,
   "metadata": {},
   "outputs": [
    {
     "name": "stdout",
     "output_type": "stream",
     "text": [
      "<FreqDist with 414 samples and 790 outcomes>\n",
      "[('language', 26), ('natural', 19), ('system', 18), ('processing', 16), ('machine', 16), ('learning', 14), ('data', 10), ('translation', 10), ('many', 10), ('task', 10), ('statistical', 9), ('rule', 9), ('algorithm', 9), ('model', 9), ('research', 8)]\n"
     ]
    }
   ],
   "source": [
    "#Calculating word frequency using different methods.\n",
    "freqdist = nltk.FreqDist(Words_Lemmatize)\n",
    "print(freqdist)\n",
    "k = 15\n",
    "print(freqdist.most_common(k))"
   ]
  },
  {
   "cell_type": "code",
   "execution_count": 15,
   "metadata": {
    "scrolled": true
   },
   "outputs": [
    {
     "data": {
      "text/plain": [
       "[('language', 26),\n",
       " ('natural', 19),\n",
       " ('system', 18),\n",
       " ('processing', 16),\n",
       " ('machine', 16),\n",
       " ('learning', 14),\n",
       " ('data', 10),\n",
       " ('translation', 10),\n",
       " ('many', 10),\n",
       " ('task', 10),\n",
       " ('statistical', 9),\n",
       " ('rule', 9),\n",
       " ('algorithm', 9),\n",
       " ('model', 9),\n",
       " ('research', 8),\n",
       " ('result', 8),\n",
       " ('real', 7),\n",
       " ('input', 7),\n",
       " ('however', 6),\n",
       " ('world', 6),\n",
       " ('based', 6),\n",
       " ('computer', 5),\n",
       " ('example', 5),\n",
       " ('hand', 5),\n",
       " ('corpus', 5)]"
      ]
     },
     "execution_count": 15,
     "metadata": {},
     "output_type": "execute_result"
    }
   ],
   "source": [
    "#Frequency of first 25 most common words.\n",
    "def freq_words(Words_Lemmatize):\n",
    "    freqdist = nltk.FreqDist()\n",
    "    text = nltk.clean(Words_Lemmatize)\n",
    "    for word in nltk.word_tokenize(text):\n",
    "        freqdist.inc(word.lower())\n",
    "    return freqdist\n",
    "freqdist = FreqDist(Words_Lemmatize)\n",
    "Words = list(freqdist.keys())\n",
    "freqdist.most_common(25)"
   ]
  },
  {
   "cell_type": "code",
   "execution_count": 16,
   "metadata": {
    "scrolled": true
   },
   "outputs": [],
   "source": [
    "#Finding Weighted frequency \n",
    "heading = ['Word','Weighted Frequency']\n",
    "tf_list = []"
   ]
  },
  {
   "cell_type": "code",
   "execution_count": 17,
   "metadata": {
    "scrolled": true
   },
   "outputs": [
    {
     "name": "stdout",
     "output_type": "stream",
     "text": [
      "           Word  Weighted Frequency\n",
      "0      language            0.062802\n",
      "1       natural            0.045894\n",
      "2        system            0.043478\n",
      "3    processing            0.038647\n",
      "4       machine            0.038647\n",
      "5      learning            0.033816\n",
      "6          data            0.024155\n",
      "7   translation            0.024155\n",
      "8          many            0.024155\n",
      "9          task            0.024155\n",
      "10  statistical            0.021739\n",
      "11         rule            0.021739\n",
      "12    algorithm            0.021739\n",
      "13        model            0.021739\n",
      "14     research            0.019324\n",
      "15       result            0.019324\n",
      "16         real            0.016908\n",
      "17        input            0.016908\n",
      "18      however            0.014493\n",
      "19        world            0.014493\n"
     ]
    }
   ],
   "source": [
    "import pandas as pd\n",
    "for x,y in freqdist.most_common(20):\n",
    "    tf_list.append((x,y/len(freqdist)))\n",
    "print(pd.DataFrame(tf_list,columns=heading))"
   ]
  },
  {
   "cell_type": "code",
   "execution_count": 18,
   "metadata": {},
   "outputs": [],
   "source": [
    "#TF-IDF with NLTK\n",
    "def word_freq_sent(sentences):\n",
    "    frequency = {}\n",
    "    stopWords = set(stopwords.words(\"english\"))\n",
    "    ps = PorterStemmer()\n",
    "\n",
    "    for sent in sentences:\n",
    "        freq_tab = {}\n",
    "        words = word_tokenize(sent)\n",
    "        #words = [word for word in tokens if word.isalpha()]\n",
    "        for word in words:\n",
    "            word = word.lower()\n",
    "            word = ps.stem(word)\n",
    "            if word in stopWords:\n",
    "                continue\n",
    "\n",
    "            if word in freq_tab:\n",
    "                freq_tab[word] += 1\n",
    "            else:\n",
    "                freq_tab[word] = 1\n",
    "\n",
    "        frequency[sent[:15]] = freq_tab\n",
    "\n",
    "    return frequency"
   ]
  },
  {
   "cell_type": "code",
   "execution_count": 19,
   "metadata": {},
   "outputs": [],
   "source": [
    "# Calculating the term frequency \n",
    "\n",
    "def compute_tf(freq_mat):\n",
    "    tf = {}\n",
    "\n",
    "    for sent, f_tab in freq_mat.items():\n",
    "        tf_tab = {}\n",
    "\n",
    "        count_words_in_sentence = len(f_tab)\n",
    "        for word, count in f_tab.items():\n",
    "            tf_tab[word] = count / count_words_in_sentence\n",
    "\n",
    "        tf[sent] = tf_tab\n",
    "\n",
    "    return tf"
   ]
  },
  {
   "cell_type": "code",
   "execution_count": 20,
   "metadata": {},
   "outputs": [],
   "source": [
    "def doc_words(freq_mat):\n",
    "    word_per_doc = {}\n",
    "\n",
    "    for sent, f_tab in freq_mat.items():\n",
    "        for word, count in f_tab.items():\n",
    "            if word in word_per_doc:\n",
    "                word_per_doc[word] += 1\n",
    "            else:\n",
    "                word_per_doc[word] = 1\n",
    "\n",
    "    return word_per_doc"
   ]
  },
  {
   "cell_type": "code",
   "execution_count": 21,
   "metadata": {},
   "outputs": [],
   "source": [
    "# computing the Inverse Document Frequency\n",
    "\n",
    "import math\n",
    "from math import *\n",
    "\n",
    "def compute_idf(freq_mat, count_doc, total_doc):\n",
    "    idf= {}\n",
    "\n",
    "    for sent, f_tab in freq_mat.items():\n",
    "        idf_tab = {}\n",
    "\n",
    "        for word in f_tab.keys():\n",
    "            idf_tab[word] = math.log10(total_doc / float(count_doc[word]))\n",
    "\n",
    "        idf[sent] = idf_tab\n",
    "\n",
    "    return idf"
   ]
  },
  {
   "cell_type": "code",
   "execution_count": 22,
   "metadata": {},
   "outputs": [],
   "source": [
    "# Calculating the tf idf to summarize the text.\n",
    "\n",
    "def compute_tf_idf(tf, idf):\n",
    "    tf_idf = {}\n",
    "\n",
    "    for (sent1, f_tab1), (sent2, f_tab2) in zip(tf.items(), idf.items()):\n",
    "\n",
    "        tf_idf_tab= {}\n",
    "\n",
    "        for (word1, value1), (word2, value2) in zip(f_tab1.items(),\n",
    "                                                    f_tab2.items()):  # here, keys are the same in both the table\n",
    "            tf_idf_tab[word1] = float(value1 * value2)\n",
    "\n",
    "        tf_idf[sent1] = tf_idf_tab\n",
    "\n",
    "    return tf_idf"
   ]
  },
  {
   "cell_type": "code",
   "execution_count": 23,
   "metadata": {},
   "outputs": [],
   "source": [
    "# Scoring the sentences\n",
    "\n",
    "def score_sentences(tf_idf) -> dict:\n",
    "\n",
    "    sentence_Value = {}\n",
    "\n",
    "    for sent, f_tab in tf_idf.items():\n",
    "        total_score = 0\n",
    "\n",
    "        count_words_in_sentence = len(f_tab)\n",
    "        for word, score in f_tab.items():\n",
    "            total_score += score\n",
    "\n",
    "        sentence_Value[sent] = total_score / count_words_in_sentence\n",
    "\n",
    "    return sentence_Value"
   ]
  },
  {
   "cell_type": "code",
   "execution_count": 31,
   "metadata": {},
   "outputs": [],
   "source": [
    "def average_score(sentence_Value) -> int:\n",
    "\n",
    "    sum_Values = 0\n",
    "    for entry in sentence_Value:\n",
    "        sum_Values += sentence_Value[entry]\n",
    "\n",
    "    # Average value of a sentence from original text\n",
    "    average = (sum_Values / len(sentence_Value))\n",
    "\n",
    "    return average"
   ]
  },
  {
   "cell_type": "code",
   "execution_count": 24,
   "metadata": {},
   "outputs": [],
   "source": [
    "# Summarizing the sentences\n",
    "\n",
    "def summary(sentences, sentence_Value, th):\n",
    "    sentence_count = 0\n",
    "    summary = ''\n",
    "\n",
    "    for sentence in sentences:\n",
    "        if sentence[:15] in sentence_Value and sentence_Value[sentence[:15]] >= (threshold):\n",
    "            summary += \" \" + sentence\n",
    "            sentence_count += 1\n",
    "\n",
    "    return summary"
   ]
  },
  {
   "cell_type": "code",
   "execution_count": 25,
   "metadata": {},
   "outputs": [],
   "source": [
    "from nltk import sent_tokenize, word_tokenize, PorterStemmer\n",
    "import math\n",
    "\n",
    "freq_mat = word_freq_sent(tokens)\n",
    "tf_cal = compute_tf(freq_mat)\n",
    "total_doc = len(tokens)\n",
    "count_doc = doc_words(freq_mat)\n",
    "idf_cal = compute_idf(freq_mat, count_doc, total_doc)\n",
    "tf_idf_cal = compute_tf_idf(tf_cal, idf_cal)"
   ]
  },
  {
   "cell_type": "code",
   "execution_count": 26,
   "metadata": {},
   "outputs": [
    {
     "ename": "ZeroDivisionError",
     "evalue": "division by zero",
     "output_type": "error",
     "traceback": [
      "\u001b[1;31m---------------------------------------------------------------------------\u001b[0m",
      "\u001b[1;31mZeroDivisionError\u001b[0m                         Traceback (most recent call last)",
      "\u001b[1;32m<ipython-input-26-1324650059c2>\u001b[0m in \u001b[0;36m<module>\u001b[1;34m\u001b[0m\n\u001b[1;32m----> 1\u001b[1;33m \u001b[0msentence_scores\u001b[0m \u001b[1;33m=\u001b[0m \u001b[0mscore_sentences\u001b[0m\u001b[1;33m(\u001b[0m\u001b[0mtf_idf_cal\u001b[0m\u001b[1;33m)\u001b[0m\u001b[1;33m\u001b[0m\u001b[1;33m\u001b[0m\u001b[0m\n\u001b[0m",
      "\u001b[1;32m<ipython-input-23-7a8a6035ceb3>\u001b[0m in \u001b[0;36mscore_sentences\u001b[1;34m(tf_idf)\u001b[0m\n\u001b[0;32m     12\u001b[0m             \u001b[0mtotal_score\u001b[0m \u001b[1;33m+=\u001b[0m \u001b[0mscore\u001b[0m\u001b[1;33m\u001b[0m\u001b[1;33m\u001b[0m\u001b[0m\n\u001b[0;32m     13\u001b[0m \u001b[1;33m\u001b[0m\u001b[0m\n\u001b[1;32m---> 14\u001b[1;33m         \u001b[0msentence_Value\u001b[0m\u001b[1;33m[\u001b[0m\u001b[0msent\u001b[0m\u001b[1;33m]\u001b[0m \u001b[1;33m=\u001b[0m \u001b[0mtotal_score\u001b[0m \u001b[1;33m/\u001b[0m \u001b[0mcount_words_in_sentence\u001b[0m\u001b[1;33m\u001b[0m\u001b[1;33m\u001b[0m\u001b[0m\n\u001b[0m\u001b[0;32m     15\u001b[0m \u001b[1;33m\u001b[0m\u001b[0m\n\u001b[0;32m     16\u001b[0m     \u001b[1;32mreturn\u001b[0m \u001b[0msentence_Value\u001b[0m\u001b[1;33m\u001b[0m\u001b[1;33m\u001b[0m\u001b[0m\n",
      "\u001b[1;31mZeroDivisionError\u001b[0m: division by zero"
     ]
    }
   ],
   "source": [
    "sentence_scores = score_sentences(tf_idf_cal)"
   ]
  },
  {
   "cell_type": "code",
   "execution_count": 56,
   "metadata": {},
   "outputs": [],
   "source": [
    "from sklearn.feature_extraction.text import TfidfVectorizer\n"
   ]
  },
  {
   "cell_type": "code",
   "execution_count": 67,
   "metadata": {},
   "outputs": [],
   "source": [
    "def computeTF(Words_Lemmatize, freqdist):\n",
    "    tfDict = {}\n",
    "    bagOfWordsCount = len(freqdist)\n",
    "    for word, count in Words_Lemmatize.items():\n",
    "        tfDict[word] = count / float(freqdist)\n",
    "    return tfDict"
   ]
  },
  {
   "cell_type": "code",
   "execution_count": 68,
   "metadata": {},
   "outputs": [],
   "source": [
    "numOfWordsA = dict.fromkeys(Words_Lemmatize, 0)\n",
    "for word in freqdist:\n",
    "    numOfWordsA[word] += 1"
   ]
  },
  {
   "cell_type": "code",
   "execution_count": 72,
   "metadata": {
    "scrolled": false
   },
   "outputs": [
    {
     "ename": "TypeError",
     "evalue": "float() argument must be a string or a number, not 'FreqDist'",
     "output_type": "error",
     "traceback": [
      "\u001b[1;31m---------------------------------------------------------------------------\u001b[0m",
      "\u001b[1;31mTypeError\u001b[0m                                 Traceback (most recent call last)",
      "\u001b[1;32m<ipython-input-72-c8ea072b3dd7>\u001b[0m in \u001b[0;36m<module>\u001b[1;34m\u001b[0m\n\u001b[1;32m----> 1\u001b[1;33m \u001b[0mtfA\u001b[0m \u001b[1;33m=\u001b[0m \u001b[0mcomputeTF\u001b[0m\u001b[1;33m(\u001b[0m\u001b[0mnumOfWordsA\u001b[0m\u001b[1;33m,\u001b[0m \u001b[0mfloat\u001b[0m\u001b[1;33m(\u001b[0m\u001b[0mfreqdist\u001b[0m\u001b[1;33m)\u001b[0m\u001b[1;33m)\u001b[0m\u001b[1;33m\u001b[0m\u001b[1;33m\u001b[0m\u001b[0m\n\u001b[0m",
      "\u001b[1;31mTypeError\u001b[0m: float() argument must be a string or a number, not 'FreqDist'"
     ]
    }
   ],
   "source": [
    "tfA = computeTF(numOfWordsA, float(freqdist))"
   ]
  },
  {
   "cell_type": "code",
   "execution_count": 85,
   "metadata": {
    "scrolled": false
   },
   "outputs": [
    {
     "data": {
      "text/plain": [
       "'This was due to both the steady increase in computational power (see Moore\\'s law) and the gradual lessening of the dominance of Chomskyan theories of linguistics (e.g. transformational grammar), whose theoretical underpinnings discouraged the sort of corpus linguistics that underlies the machine-learning approach to language processing.[3] Some of the earliest-used machine learning algorithms, such as decision trees, produced systems of hard if-then rules similar to existing hand-written rules.\\nHowever, part-of-speech tagging introduced the use of hidden Markov models to natural language processing, and increasingly, research has focused on statistical models, which make soft, probabilistic decisions based on attaching real-valued weights to the features making up the input data.\\nSuch models are generally more robust when given unfamiliar input, especially input that contains errors (as is very common for real-world data), and produce more reliable results when integrated into a larger system comprising multiple subtasks.\\nGenerally, this task is much more difficult than supervised learning, and typically produces less accurate results for a given amount of input data.\\nSince the so-called \"statistical revolution\"[11][12] in the late 1980s and mid-1990s, much natural language processing research has relied heavily on machine learning.\\nThe machine-learning paradigm calls instead for using statistical inference to automatically learn such rules through the analysis of large corpora (the plural form of corpus, is a set of documents, possibly with human or computer annotations) of typical real-world examples.\\nMany different classes of machine-learning algorithms have been applied to natural-language-processing tasks.\\nIncreasingly, however, research has focused on statistical models, which make soft, probabilistic decisions based on attaching real-valued weights to each input feature.\\nSystems based on machine-learning algorithms have many advantages over hand-produced rules:'"
      ]
     },
     "execution_count": 85,
     "metadata": {},
     "output_type": "execute_result"
    }
   ],
   "source": [
    "#Summarising the text using Gensim with TextRank\n",
    "from gensim.summarization import summarize\n",
    "summarize(mytext)"
   ]
  },
  {
   "cell_type": "code",
   "execution_count": 84,
   "metadata": {
    "scrolled": false
   },
   "outputs": [
    {
     "data": {
      "text/plain": [
       "'This was due to both the steady increase in computational power (see Moore\\'s law) and the gradual lessening of the dominance of Chomskyan theories of linguistics (e.g. transformational grammar), whose theoretical underpinnings discouraged the sort of corpus linguistics that underlies the machine-learning approach to language processing.[3] Some of the earliest-used machine learning algorithms, such as decision trees, produced systems of hard if-then rules similar to existing hand-written rules.\\nHowever, part-of-speech tagging introduced the use of hidden Markov models to natural language processing, and increasingly, research has focused on statistical models, which make soft, probabilistic decisions based on attaching real-valued weights to the features making up the input data.\\nSuch models are generally more robust when given unfamiliar input, especially input that contains errors (as is very common for real-world data), and produce more reliable results when integrated into a larger system comprising multiple subtasks.\\nSince the so-called \"statistical revolution\"[11][12] in the late 1980s and mid-1990s, much natural language processing research has relied heavily on machine learning.'"
      ]
     },
     "execution_count": 84,
     "metadata": {},
     "output_type": "execute_result"
    }
   ],
   "source": [
    "summarize(mytext, ratio=0.10)"
   ]
  },
  {
   "cell_type": "code",
   "execution_count": 86,
   "metadata": {},
   "outputs": [
    {
     "data": {
      "text/plain": [
       "'However, part-of-speech tagging introduced the use of hidden Markov models to natural language processing, and increasingly, research has focused on statistical models, which make soft, probabilistic decisions based on attaching real-valued weights to the features making up the input data.'"
      ]
     },
     "execution_count": 86,
     "metadata": {},
     "output_type": "execute_result"
    }
   ],
   "source": [
    "summarize(mytext, word_count=30)"
   ]
  },
  {
   "cell_type": "code",
   "execution_count": 87,
   "metadata": {
    "scrolled": true
   },
   "outputs": [
    {
     "data": {
      "text/plain": [
       "['learning',\n",
       " 'learn',\n",
       " 'data',\n",
       " 'real',\n",
       " 'languages',\n",
       " 'systems',\n",
       " 'results',\n",
       " 'result',\n",
       " 'worlds',\n",
       " 'world',\n",
       " 'tasks',\n",
       " 'task',\n",
       " 'research',\n",
       " 'researched',\n",
       " 'statistical',\n",
       " 'base',\n",
       " 'based',\n",
       " 'rules',\n",
       " 'computers',\n",
       " 'computing',\n",
       " 'computational',\n",
       " 'natural language processing',\n",
       " 'translation',\n",
       " 'machine',\n",
       " 'process',\n",
       " 'word',\n",
       " 'words',\n",
       " 'answers',\n",
       " 'answering',\n",
       " 'hand',\n",
       " 'large',\n",
       " 'intelligence',\n",
       " 'human',\n",
       " 'produced',\n",
       " 'produce',\n",
       " 'produces',\n",
       " 'producing',\n",
       " 'input',\n",
       " 'generation',\n",
       " 'generally',\n",
       " 'generic',\n",
       " 'generated',\n",
       " 'including',\n",
       " 'include',\n",
       " 'included',\n",
       " 'paradigm',\n",
       " 'called',\n",
       " 'calling',\n",
       " 'calls',\n",
       " 'successful',\n",
       " 'successively',\n",
       " 'success',\n",
       " 'written',\n",
       " 'lehnert',\n",
       " 'possibly',\n",
       " 'possible',\n",
       " 'turing published',\n",
       " 'models',\n",
       " 'modeling',\n",
       " 'model',\n",
       " 'semantic',\n",
       " 'contains',\n",
       " 'substantial',\n",
       " 'underpinnings',\n",
       " 'multiple',\n",
       " 'reduced',\n",
       " 'neural',\n",
       " 'early successes',\n",
       " 'information',\n",
       " 'transformational',\n",
       " 'transformations',\n",
       " 'intermediate',\n",
       " 'increasingly',\n",
       " 'corpora',\n",
       " 'example',\n",
       " 'examples',\n",
       " 'decision',\n",
       " 'decisions',\n",
       " 'titled',\n",
       " 'speech',\n",
       " 'annotated',\n",
       " 'annotations']"
      ]
     },
     "execution_count": 87,
     "metadata": {},
     "output_type": "execute_result"
    }
   ],
   "source": [
    "#Finding Keywords with Gensim\n",
    "from gensim.summarization import keywords\n",
    "keywords(mytext, split=True)"
   ]
  },
  {
   "cell_type": "code",
   "execution_count": 88,
   "metadata": {
    "scrolled": true
   },
   "outputs": [
    {
     "data": {
      "text/plain": [
       "['learning',\n",
       " 'learn',\n",
       " 'data',\n",
       " 'real',\n",
       " 'languages',\n",
       " 'systems',\n",
       " 'results',\n",
       " 'result',\n",
       " 'worlds',\n",
       " 'world',\n",
       " 'tasks',\n",
       " 'task',\n",
       " 'research',\n",
       " 'researched',\n",
       " 'statistical',\n",
       " 'base',\n",
       " 'based',\n",
       " 'rules',\n",
       " 'computers',\n",
       " 'computing',\n",
       " 'computational',\n",
       " 'natural language processing',\n",
       " 'translation',\n",
       " 'machine',\n",
       " 'process',\n",
       " 'word',\n",
       " 'words',\n",
       " 'answers',\n",
       " 'answering',\n",
       " 'hand',\n",
       " 'large',\n",
       " 'turing',\n",
       " 'intelligence',\n",
       " 'human',\n",
       " 'produced',\n",
       " 'produce',\n",
       " 'produces',\n",
       " 'producing',\n",
       " 'input',\n",
       " 'generation',\n",
       " 'generally',\n",
       " 'generic',\n",
       " 'generated']"
      ]
     },
     "execution_count": 88,
     "metadata": {},
     "output_type": "execute_result"
    }
   ],
   "source": [
    "keywords(mytext, ratio = 0.1, split=True)"
   ]
  }
 ],
 "metadata": {
  "kernelspec": {
   "display_name": "Python 3",
   "language": "python",
   "name": "python3"
  },
  "language_info": {
   "codemirror_mode": {
    "name": "ipython",
    "version": 3
   },
   "file_extension": ".py",
   "mimetype": "text/x-python",
   "name": "python",
   "nbconvert_exporter": "python",
   "pygments_lexer": "ipython3",
   "version": "3.7.3"
  }
 },
 "nbformat": 4,
 "nbformat_minor": 2
}
